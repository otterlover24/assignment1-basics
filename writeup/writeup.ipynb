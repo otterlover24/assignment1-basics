{
 "cells": [
  {
   "cell_type": "markdown",
   "id": "863cef1d",
   "metadata": {
    "vscode": {
     "languageId": "plaintext"
    }
   },
   "source": [
    "# Writeup"
   ]
  },
  {
   "cell_type": "markdown",
   "id": "e7e75378",
   "metadata": {},
   "source": [
    "## Problem (unicode1): Understanding Unicode (1 point)\n"
   ]
  },
  {
   "cell_type": "markdown",
   "id": "5384c259",
   "metadata": {},
   "source": [
    "### (a) \n",
    "#### Question\n",
    "What Unicode character does chr(0) return?\n",
    "\n",
    "Deliverable: A one-sentence response.\n"
   ]
  },
  {
   "cell_type": "code",
   "execution_count": 1,
   "id": "06a1f4bd",
   "metadata": {},
   "outputs": [
    {
     "data": {
      "text/plain": [
       "'\\x00'"
      ]
     },
     "execution_count": 1,
     "metadata": {},
     "output_type": "execute_result"
    }
   ],
   "source": [
    "chr(0)"
   ]
  },
  {
   "cell_type": "markdown",
   "id": "55363103",
   "metadata": {},
   "source": [
    "#### Answer\n",
    "`chr(0)` returns the Unicode character with code point 0, which is the null character (`'\\x00'`)."
   ]
  },
  {
   "cell_type": "markdown",
   "id": "a3ad00e1",
   "metadata": {},
   "source": [
    "### (b) \n",
    "#### Question\n",
    "How does this character’s string representation (__repr__()) differ from its printed representa-\n",
    "tion?\n",
    "\n",
    "Deliverable: A one-sentence response.\n"
   ]
  },
  {
   "cell_type": "code",
   "execution_count": 2,
   "id": "d8e8bf62",
   "metadata": {},
   "outputs": [
    {
     "data": {
      "text/plain": [
       "\"'\\\\x00'\""
      ]
     },
     "execution_count": 2,
     "metadata": {},
     "output_type": "execute_result"
    }
   ],
   "source": [
    "repr(chr(0))"
   ]
  },
  {
   "cell_type": "code",
   "execution_count": 4,
   "id": "0cdf0898",
   "metadata": {},
   "outputs": [
    {
     "name": "stdout",
     "output_type": "stream",
     "text": [
      "\u0000\n"
     ]
    }
   ],
   "source": [
    "print(chr(0))"
   ]
  },
  {
   "cell_type": "code",
   "execution_count": null,
   "id": "896726ff",
   "metadata": {},
   "outputs": [],
   "source": [
    "The string representation `repr(chr(0))` is `\"'\\\\x00'\"`, showing the escape sequence, while printing `chr(0)` outputs nothing visible."
   ]
  },
  {
   "cell_type": "markdown",
   "id": "59971619",
   "metadata": {},
   "source": [
    "### (c) \n",
    "#### Question\n",
    "What happens when this character occurs in text? It may be helpful to play around with the\n",
    "following in your Python interpreter and see if it matches your expectations:\n",
    "```\n",
    ">>> chr(0)\n",
    ">>> print(chr(0))\n",
    ">>> \"this is a test\" + chr(0) + \"string\"\n",
    ">>> print(\"this is a test\" + chr(0) + \"string\")\n",
    "```\n",
    "\n",
    "Deliverable: A one-sentence response."
   ]
  },
  {
   "cell_type": "code",
   "execution_count": 5,
   "id": "6100dceb",
   "metadata": {},
   "outputs": [
    {
     "data": {
      "text/plain": [
       "'this is a test\\x00string'"
      ]
     },
     "execution_count": 5,
     "metadata": {},
     "output_type": "execute_result"
    }
   ],
   "source": [
    "\"this is a test\" + chr(0) + \"string\""
   ]
  },
  {
   "cell_type": "code",
   "execution_count": 6,
   "id": "01cebb84",
   "metadata": {},
   "outputs": [
    {
     "name": "stdout",
     "output_type": "stream",
     "text": [
      "this is a test\u0000string\n"
     ]
    }
   ],
   "source": [
    "print(\"this is a test\" + chr(0) + \"string\")"
   ]
  },
  {
   "cell_type": "markdown",
   "id": "fdf0790a",
   "metadata": {},
   "source": [
    "#### Response\n",
    "\n",
    "When the null character occurs in text, it acts as an invisible character and does display when printed."
   ]
  },
  {
   "cell_type": "markdown",
   "id": "ce47c55c",
   "metadata": {},
   "source": [
    "# Problem (unicode2): Unicode Encodings (3 points)\n"
   ]
  },
  {
   "cell_type": "markdown",
   "id": "5d323aea",
   "metadata": {},
   "source": [
    "## (a) \n",
    "### Question\n",
    "What are some reasons to prefer training our tokenizer on UTF-8 encoded bytes, rather than\n",
    "UTF-16 or UTF-32? It may be helpful to compare the output of these encodings for various\n",
    "input strings.\n",
    "\n",
    "Deliverable: A one-to-two sentence response.\n",
    "\n"
   ]
  },
  {
   "cell_type": "markdown",
   "id": "d6155e41",
   "metadata": {},
   "source": [
    "## (b) \n",
    "### Question\n",
    "Consider the following (incorrect) function, which is intended to decode a UTF-8 byte string into\n",
    "a Unicode string. Why is this function incorrect? Provide an example of an input byte string\n",
    "that yields incorrect results.\n",
    "```\n",
    "def decode_utf8_bytes_to_str_wrong(bytestring: bytes):\n",
    "    return \"\".join([bytes([b]).decode(\"utf-8\") for b in bytestring])\n",
    ">>> decode_utf8_bytes_to_str_wrong(\"hello\".encode(\"utf-8\"))\n",
    "'hello'\n",
    "```\n",
    "Deliverable: An example input byte string for which decode_utf8_bytes_to_str_wrong pro-\n",
    "duces incorrect output, with a one-sentence explanation of why the function is incorrect.\n",
    "\n"
   ]
  },
  {
   "cell_type": "markdown",
   "id": "f51222e3",
   "metadata": {},
   "source": [
    "## (c) \n",
    "### Question\n",
    "Give a two byte sequence that does not decode to any Unicode character(s).\n",
    "\n",
    "Deliverable: An example, with a one-sentence explanation."
   ]
  }
 ],
 "metadata": {
  "kernelspec": {
   "display_name": ".venv",
   "language": "python",
   "name": "python3"
  },
  "language_info": {
   "codemirror_mode": {
    "name": "ipython",
    "version": 3
   },
   "file_extension": ".py",
   "mimetype": "text/x-python",
   "name": "python",
   "nbconvert_exporter": "python",
   "pygments_lexer": "ipython3",
   "version": "3.12.3"
  }
 },
 "nbformat": 4,
 "nbformat_minor": 5
}
